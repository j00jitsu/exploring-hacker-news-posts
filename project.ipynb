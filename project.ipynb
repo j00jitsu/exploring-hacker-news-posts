{
 "metadata": {
  "language_info": {
   "codemirror_mode": {
    "name": "ipython",
    "version": 3
   },
   "file_extension": ".py",
   "mimetype": "text/x-python",
   "name": "python",
   "nbconvert_exporter": "python",
   "pygments_lexer": "ipython3",
   "version": "3.8.6-final"
  },
  "orig_nbformat": 2,
  "kernelspec": {
   "name": "python38664bit9ed6c60ffc2345409c5c555aefc25703",
   "display_name": "Python 3.8.6 64-bit",
   "language": "python"
  }
 },
 "nbformat": 4,
 "nbformat_minor": 2,
 "cells": [
  {
   "source": [
    "## Exploring 'Hacker News' Posts\n",
    "\n",
    "Hacker News is a website where user-submitted stories (known as \"posts\") are voted and commented upon, similar to reddit. Hacker News is extremely popular in technology and startup circles, and posts that make it to the top of Hacker News' listings can get hundreds of thousands of visitors as a result.\n",
    "\n",
    "We will be looking specifically at 'Ask HN' and 'Show HN' posts. 'Ask' posts are submitted to ask a question of the community, while 'Show' posts are meant to share something that others might find interesting, such as a project or product.\n",
    "\n",
    "\n",
    "\n",
    "We'll compare these two types of posts to determine the following:\n",
    "\n",
    "- Do Ask HN or Show HN receive more comments on average?\n",
    "- Do posts created at a certain time receive more comments on average?\n",
    "\n",
    "Let's start by importing the libraries we need and reading the data set into a list of lists. We'll create a separate variable for the header row."
   ],
   "cell_type": "markdown",
   "metadata": {}
  },
  {
   "cell_type": "code",
   "execution_count": 13,
   "metadata": {},
   "outputs": [],
   "source": [
    "from csv import reader\n",
    "\n",
    "opened_file = open('hacker_news.csv')\n",
    "read_file = reader(opened_file)\n",
    "hn = list(read_file)\n",
    "headers = hn[0]\n",
    "hn = hn[1:]"
   ]
  },
  {
   "source": [
    "Now let's look at the first five entries in the data set, using a function:"
   ],
   "cell_type": "markdown",
   "metadata": {}
  },
  {
   "cell_type": "code",
   "execution_count": 14,
   "metadata": {
    "tags": []
   },
   "outputs": [
    {
     "output_type": "stream",
     "name": "stdout",
     "text": [
      "['12224879', 'Interactive Dynamic Video', 'http://www.interactivedynamicvideo.com/', '386', '52', 'ne0phyte', '8/4/2016 11:52']\n\n\n['10975351', 'How to Use Open Source and Shut the Fuck Up at the Same Time', 'http://hueniverse.com/2016/01/26/how-to-use-open-source-and-shut-the-fuck-up-at-the-same-time/', '39', '10', 'josep2', '1/26/2016 19:30']\n\n\n['11964716', \"Florida DJs May Face Felony for April Fools' Water Joke\", 'http://www.thewire.com/entertainment/2013/04/florida-djs-april-fools-water-joke/63798/', '2', '1', 'vezycash', '6/23/2016 22:20']\n\n\n['11919867', 'Technology ventures: From Idea to Enterprise', 'https://www.amazon.com/Technology-Ventures-Enterprise-Thomas-Byers/dp/0073523429', '3', '1', 'hswarna', '6/17/2016 0:01']\n\n\n['10301696', 'Note by Note: The Making of Steinway L1037 (2007)', 'http://www.nytimes.com/2007/11/07/movies/07stein.html?_r=0', '8', '2', 'walterbell', '9/30/2015 4:12']\n\n\n"
     ]
    }
   ],
   "source": [
    "def explore_data(dataset, start, end, rows_columns=False):\n",
    "    data_slice = dataset[start:end]\n",
    "    for row in data_slice:\n",
    "        print(row)\n",
    "        print('\\n')\n",
    "    if rows_columns:\n",
    "        print(f'Number of rows: {len(dataset)}')\n",
    "        print(f'Number of columns: {len(dataset[0])}')\n",
    "\n",
    "hacker_data = explore_data(hn, 0, 5)"
   ]
  },
  {
   "source": [
    "With the header row out of the way, we can start filtering the data. Since we're only interested in the Ask HN and Show HN posts, we'll need to filter those out and place them into their own respective lists of lists."
   ],
   "cell_type": "markdown",
   "metadata": {}
  },
  {
   "cell_type": "code",
   "execution_count": 15,
   "metadata": {},
   "outputs": [
    {
     "output_type": "stream",
     "name": "stdout",
     "text": [
      "1744\n1162\n17194\n"
     ]
    }
   ],
   "source": [
    "# initialize the new lists\n",
    "ask_posts = []\n",
    "show_posts = []\n",
    "other_posts = []\n",
    "\n",
    "for row in hn:\n",
    "    title = row[1]  # pull the title from the second column\n",
    "    title = title.lower()  # change title to all lower-case, so it can be filtered into the correct list\n",
    "    if title.startswith('ask hn'):\n",
    "        ask_posts.append(row)\n",
    "    elif title.startswith('show hn'):\n",
    "        show_posts.append(row)\n",
    "    else:\n",
    "        other_posts.append(row)\n",
    "\n",
    "# let's check the length of each list.\n",
    "print(len(ask_posts))\n",
    "print(len(show_posts))\n",
    "print(len(other_posts))"
   ]
  },
  {
   "source": [
    "Next, we'll see which type of post has the most comments on average. We'll loop over each list and add the number of comments for each row to the total, then divide by the number of rows."
   ],
   "cell_type": "markdown",
   "metadata": {}
  },
  {
   "cell_type": "code",
   "execution_count": 18,
   "metadata": {},
   "outputs": [
    {
     "output_type": "stream",
     "name": "stdout",
     "text": [
      "Average number of comments on Ask HN posts:  14.038417431192661\nAverage number of comments on Show HN posts:  10.31669535283993\n"
     ]
    }
   ],
   "source": [
    "total_ask_comments = 0\n",
    "for row in ask_posts:\n",
    "    num_comments = int(row[4])\n",
    "    total_ask_comments += num_comments\n",
    "    avg_ask_comments = total_ask_comments / len(ask_posts)\n",
    "print(\"Average number of comments on Ask HN posts: \", avg_ask_comments)\n",
    "\n",
    "total_show_comments = 0\n",
    "for row in show_posts:\n",
    "    num_comments = int(row[4])\n",
    "    total_show_comments += num_comments\n",
    "    avg_show_comments = total_show_comments / len(show_posts)\n",
    "print(\"Average number of comments on Show HN posts: \", avg_show_comments)"
   ]
  },
  {
   "source": [
    "So, Ask HN posts receive a little over 14 comments each on average, while Show HN posts receive about 10.3. Based on this, it appears initially that Ask posts are more popular, or at least typically generate a more lengthy discussion. With this in mind, we'll focus on just the Ask posts moving forward.\n",
    "\n",
    "Another interesting question is whether the time of day the post is created has an impact on how many comments are generated. Using the `datetime` module we can perform further filtering to that end. We'll use the following steps to perform this analysis:\n",
    "\n",
    "1. Calculate the amount of ask posts created in each hour of the day, along with the number of comments received.\n",
    "\n",
    "2. Calculate the average number of comments ask posts receive by hour created.\n"
   ],
   "cell_type": "markdown",
   "metadata": {}
  },
  {
   "cell_type": "code",
   "execution_count": null,
   "metadata": {},
   "outputs": [],
   "source": [
    "import datetime as dt\n",
    "\n",
    "result_list = []\n"
   ]
  }
 ]
}